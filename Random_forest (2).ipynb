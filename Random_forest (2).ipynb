{
 "cells": [
  {
   "cell_type": "code",
   "execution_count": 1,
   "id": "2225432c",
   "metadata": {},
   "outputs": [],
   "source": [
    "import pandas as pd\n",
    "import numpy as np\n",
    "import matplotlib.pyplot as plt\n",
    "import seaborn as sns\n",
    "import pickle\n",
    "from sklearn.model_selection import train_test_split"
   ]
  },
  {
   "cell_type": "code",
   "execution_count": 2,
   "id": "ea383a8f",
   "metadata": {},
   "outputs": [
    {
     "data": {
      "text/html": [
       "<div>\n",
       "<style scoped>\n",
       "    .dataframe tbody tr th:only-of-type {\n",
       "        vertical-align: middle;\n",
       "    }\n",
       "\n",
       "    .dataframe tbody tr th {\n",
       "        vertical-align: top;\n",
       "    }\n",
       "\n",
       "    .dataframe thead th {\n",
       "        text-align: right;\n",
       "    }\n",
       "</style>\n",
       "<table border=\"1\" class=\"dataframe\">\n",
       "  <thead>\n",
       "    <tr style=\"text-align: right;\">\n",
       "      <th></th>\n",
       "      <th>Unnamed: 0</th>\n",
       "      <th>Month</th>\n",
       "      <th>Occupation</th>\n",
       "      <th>Type_of_Loan</th>\n",
       "      <th>Credit_Mix</th>\n",
       "      <th>Payment_of_Min_Amount</th>\n",
       "      <th>Payment_Behaviour</th>\n",
       "      <th>Credit_Score</th>\n",
       "      <th>Age</th>\n",
       "      <th>Annual_Income</th>\n",
       "      <th>...</th>\n",
       "      <th>Delay_from_due_date</th>\n",
       "      <th>Num_of_Delayed_Payment</th>\n",
       "      <th>Changed_Credit_Limit</th>\n",
       "      <th>Num_Credit_Inquiries</th>\n",
       "      <th>Outstanding_Debt</th>\n",
       "      <th>Credit_Utilization_Ratio</th>\n",
       "      <th>Total_EMI_per_month</th>\n",
       "      <th>Amount_invested_monthly</th>\n",
       "      <th>Monthly_Balance</th>\n",
       "      <th>Credit_History_Months</th>\n",
       "    </tr>\n",
       "  </thead>\n",
       "  <tbody>\n",
       "    <tr>\n",
       "      <th>0</th>\n",
       "      <td>1</td>\n",
       "      <td>2</td>\n",
       "      <td>12</td>\n",
       "      <td>128</td>\n",
       "      <td>1</td>\n",
       "      <td>1</td>\n",
       "      <td>4</td>\n",
       "      <td>0</td>\n",
       "      <td>23.0</td>\n",
       "      <td>19114.12</td>\n",
       "      <td>...</td>\n",
       "      <td>0.0</td>\n",
       "      <td>31.033317</td>\n",
       "      <td>11.270000</td>\n",
       "      <td>4.0</td>\n",
       "      <td>809.98</td>\n",
       "      <td>31.944960</td>\n",
       "      <td>49.574949</td>\n",
       "      <td>118.280222</td>\n",
       "      <td>284.629163</td>\n",
       "      <td>220.840847</td>\n",
       "    </tr>\n",
       "    <tr>\n",
       "      <th>1</th>\n",
       "      <td>2</td>\n",
       "      <td>6</td>\n",
       "      <td>12</td>\n",
       "      <td>128</td>\n",
       "      <td>1</td>\n",
       "      <td>1</td>\n",
       "      <td>5</td>\n",
       "      <td>0</td>\n",
       "      <td>0.0</td>\n",
       "      <td>19114.12</td>\n",
       "      <td>...</td>\n",
       "      <td>3.0</td>\n",
       "      <td>7.000000</td>\n",
       "      <td>10.389016</td>\n",
       "      <td>4.0</td>\n",
       "      <td>809.98</td>\n",
       "      <td>28.609352</td>\n",
       "      <td>49.574949</td>\n",
       "      <td>81.699521</td>\n",
       "      <td>331.209863</td>\n",
       "      <td>267.000000</td>\n",
       "    </tr>\n",
       "    <tr>\n",
       "      <th>2</th>\n",
       "      <td>3</td>\n",
       "      <td>0</td>\n",
       "      <td>12</td>\n",
       "      <td>128</td>\n",
       "      <td>1</td>\n",
       "      <td>1</td>\n",
       "      <td>6</td>\n",
       "      <td>0</td>\n",
       "      <td>23.0</td>\n",
       "      <td>19114.12</td>\n",
       "      <td>...</td>\n",
       "      <td>5.0</td>\n",
       "      <td>4.000000</td>\n",
       "      <td>6.270000</td>\n",
       "      <td>4.0</td>\n",
       "      <td>809.98</td>\n",
       "      <td>31.377862</td>\n",
       "      <td>49.574949</td>\n",
       "      <td>199.458074</td>\n",
       "      <td>223.451310</td>\n",
       "      <td>268.000000</td>\n",
       "    </tr>\n",
       "    <tr>\n",
       "      <th>3</th>\n",
       "      <td>4</td>\n",
       "      <td>7</td>\n",
       "      <td>12</td>\n",
       "      <td>128</td>\n",
       "      <td>1</td>\n",
       "      <td>1</td>\n",
       "      <td>2</td>\n",
       "      <td>0</td>\n",
       "      <td>23.0</td>\n",
       "      <td>19114.12</td>\n",
       "      <td>...</td>\n",
       "      <td>6.0</td>\n",
       "      <td>31.033317</td>\n",
       "      <td>11.270000</td>\n",
       "      <td>4.0</td>\n",
       "      <td>809.98</td>\n",
       "      <td>24.797347</td>\n",
       "      <td>49.574949</td>\n",
       "      <td>41.420153</td>\n",
       "      <td>341.489231</td>\n",
       "      <td>269.000000</td>\n",
       "    </tr>\n",
       "    <tr>\n",
       "      <th>4</th>\n",
       "      <td>5</td>\n",
       "      <td>5</td>\n",
       "      <td>12</td>\n",
       "      <td>128</td>\n",
       "      <td>1</td>\n",
       "      <td>1</td>\n",
       "      <td>0</td>\n",
       "      <td>0</td>\n",
       "      <td>23.0</td>\n",
       "      <td>19114.12</td>\n",
       "      <td>...</td>\n",
       "      <td>8.0</td>\n",
       "      <td>4.000000</td>\n",
       "      <td>9.270000</td>\n",
       "      <td>4.0</td>\n",
       "      <td>809.98</td>\n",
       "      <td>27.262259</td>\n",
       "      <td>49.574949</td>\n",
       "      <td>62.430172</td>\n",
       "      <td>340.479212</td>\n",
       "      <td>270.000000</td>\n",
       "    </tr>\n",
       "  </tbody>\n",
       "</table>\n",
       "<p>5 rows × 25 columns</p>\n",
       "</div>"
      ],
      "text/plain": [
       "   Unnamed: 0  Month  Occupation  Type_of_Loan  Credit_Mix  \\\n",
       "0           1      2          12           128           1   \n",
       "1           2      6          12           128           1   \n",
       "2           3      0          12           128           1   \n",
       "3           4      7          12           128           1   \n",
       "4           5      5          12           128           1   \n",
       "\n",
       "   Payment_of_Min_Amount  Payment_Behaviour  Credit_Score   Age  \\\n",
       "0                      1                  4             0  23.0   \n",
       "1                      1                  5             0   0.0   \n",
       "2                      1                  6             0  23.0   \n",
       "3                      1                  2             0  23.0   \n",
       "4                      1                  0             0  23.0   \n",
       "\n",
       "   Annual_Income  ...  Delay_from_due_date  Num_of_Delayed_Payment  \\\n",
       "0       19114.12  ...                  0.0               31.033317   \n",
       "1       19114.12  ...                  3.0                7.000000   \n",
       "2       19114.12  ...                  5.0                4.000000   \n",
       "3       19114.12  ...                  6.0               31.033317   \n",
       "4       19114.12  ...                  8.0                4.000000   \n",
       "\n",
       "   Changed_Credit_Limit  Num_Credit_Inquiries  Outstanding_Debt  \\\n",
       "0             11.270000                   4.0            809.98   \n",
       "1             10.389016                   4.0            809.98   \n",
       "2              6.270000                   4.0            809.98   \n",
       "3             11.270000                   4.0            809.98   \n",
       "4              9.270000                   4.0            809.98   \n",
       "\n",
       "   Credit_Utilization_Ratio  Total_EMI_per_month  Amount_invested_monthly  \\\n",
       "0                 31.944960            49.574949               118.280222   \n",
       "1                 28.609352            49.574949                81.699521   \n",
       "2                 31.377862            49.574949               199.458074   \n",
       "3                 24.797347            49.574949                41.420153   \n",
       "4                 27.262259            49.574949                62.430172   \n",
       "\n",
       "   Monthly_Balance  Credit_History_Months  \n",
       "0       284.629163             220.840847  \n",
       "1       331.209863             267.000000  \n",
       "2       223.451310             268.000000  \n",
       "3       341.489231             269.000000  \n",
       "4       340.479212             270.000000  \n",
       "\n",
       "[5 rows x 25 columns]"
      ]
     },
     "execution_count": 2,
     "metadata": {},
     "output_type": "execute_result"
    }
   ],
   "source": [
    "#Reading data without outliers\n",
    "df = pd.read_csv('credit_data_process-2.csv')\n",
    "df.head()"
   ]
  },
  {
   "cell_type": "code",
   "execution_count": 3,
   "id": "d35b8406",
   "metadata": {},
   "outputs": [],
   "source": [
    "df = df.drop(['Unnamed: 0'],axis=1)"
   ]
  },
  {
   "cell_type": "code",
   "execution_count": 4,
   "id": "f13de0bb",
   "metadata": {},
   "outputs": [],
   "source": [
    "# Selecting Top 10 features from the feature selection\n",
    "# Top 10 features\n",
    "# 1. Outstanding_Debt  \n",
    "# 2. Annual_Income\n",
    "# 3. Total_EMI_per_month \n",
    "# 4. Type_of_Loan\n",
    "# 5. Interest_Rate\n",
    "# 6. Credit_Mix\n",
    "# 7. Delay_from_due_date  \n",
    "# 8. Num_Credit_Inquiries\n",
    "# 9. Payment_of_Min_Amount \n",
    "# 10. Num_Credit_Card "
   ]
  },
  {
   "cell_type": "code",
   "execution_count": 5,
   "id": "94441301",
   "metadata": {},
   "outputs": [],
   "source": [
    "df_1 = df[['Type_of_Loan', 'Credit_Mix', 'Annual_Income', 'Monthly_Inhand_Salary',\n",
    "       'Num_Credit_Card', 'Interest_Rate', 'Delay_from_due_date',\n",
    "       'Num_Credit_Inquiries', 'Outstanding_Debt', 'Total_EMI_per_month','Credit_Score']]"
   ]
  },
  {
   "cell_type": "code",
   "execution_count": 6,
   "id": "7ae4e23b",
   "metadata": {},
   "outputs": [],
   "source": [
    "X = df_1.drop(['Credit_Score'],axis=1)\n",
    "y = df_1['Credit_Score']"
   ]
  },
  {
   "cell_type": "code",
   "execution_count": 7,
   "id": "962b1446",
   "metadata": {},
   "outputs": [
    {
     "data": {
      "text/plain": [
       "array([[0.02045055, 0.33333333, 0.08770105, ..., 0.22222222, 0.20365971,\n",
       "        0.13863216],\n",
       "       [0.02045055, 0.33333333, 0.08770105, ..., 0.22222222, 0.20365971,\n",
       "        0.13863216],\n",
       "       [0.02045055, 0.33333333, 0.08770105, ..., 0.22222222, 0.20365971,\n",
       "        0.13863216],\n",
       "       ...,\n",
       "       [0.10912286, 0.33333333, 0.23629269, ..., 0.16666667, 0.12629543,\n",
       "        0.09816544],\n",
       "       [0.10912286, 0.33333333, 0.23629269, ..., 0.16666667, 0.12629543,\n",
       "        0.09816544],\n",
       "       [0.10912286, 0.33333333, 0.22123968, ..., 0.16666667, 0.12629543,\n",
       "        0.09816544]])"
      ]
     },
     "execution_count": 7,
     "metadata": {},
     "output_type": "execute_result"
    }
   ],
   "source": [
    "#Min Max scaling \n",
    "from sklearn.preprocessing import MinMaxScaler\n",
    "scalar = MinMaxScaler()\n",
    "model = scalar.fit(X)\n",
    "scaled_X = model.transform(X)\n",
    "scaled_X\n"
   ]
  },
  {
   "cell_type": "code",
   "execution_count": 8,
   "id": "0ed0046b",
   "metadata": {},
   "outputs": [],
   "source": [
    "#splitting data into train,validation and test datasets\n",
    "X_train, X_rem, y_train, y_rem = train_test_split(scaled_X,y, train_size=0.5,random_state=42)\n",
    "test_size = 0.5\n",
    "X_valid, X_test, y_valid, y_test = train_test_split(X_rem,y_rem, test_size=0.5,random_state=42)"
   ]
  },
  {
   "cell_type": "code",
   "execution_count": 9,
   "id": "86774f5d",
   "metadata": {},
   "outputs": [],
   "source": [
    "from sklearn import metrics\n",
    "from sklearn.metrics import accuracy_score, confusion_matrix, classification_report\n",
    "from sklearn.ensemble import RandomForestClassifier\n",
    "rfc = RandomForestClassifier()"
   ]
  },
  {
   "cell_type": "code",
   "execution_count": 10,
   "id": "e8369a29",
   "metadata": {},
   "outputs": [
    {
     "name": "stdout",
     "output_type": "stream",
     "text": [
      "The accuracy for the model is 0.76312\n"
     ]
    }
   ],
   "source": [
    "rfc.fit(X_train,y_train)\n",
    "#model on the validation dataset\n",
    "y_valid_pred = rfc.predict(X_valid)\n",
    "acc = accuracy_score(y_valid,y_valid_pred)\n",
    "\n",
    "print(f\"The accuracy for the model is {acc}\")"
   ]
  },
  {
   "cell_type": "code",
   "execution_count": 11,
   "id": "a1c0ca2e",
   "metadata": {},
   "outputs": [],
   "source": [
    "from sklearn.model_selection import train_test_split, RandomizedSearchCV"
   ]
  },
  {
   "cell_type": "code",
   "execution_count": 12,
   "id": "bbf1252d",
   "metadata": {},
   "outputs": [
    {
     "name": "stdout",
     "output_type": "stream",
     "text": [
      "The accuracy for the model is 0.76024\n"
     ]
    }
   ],
   "source": [
    "# model on the test dataset\n",
    "y_test_pred = rfc.predict(X_test)\n",
    "accu = accuracy_score(y_test,y_test_pred)\n",
    "\n",
    "print(f\"The accuracy for the model is {accu}\")"
   ]
  },
  {
   "cell_type": "markdown",
   "id": "efaa648a",
   "metadata": {},
   "source": [
    "# finding best hyperparameters using Randomized  searchcv"
   ]
  },
  {
   "cell_type": "code",
   "execution_count": null,
   "id": "792fc7fe",
   "metadata": {},
   "outputs": [],
   "source": [
    "random_grid = {'n_estimators': [200, 400, 600, 800, 1000, 1200, 1400],\n",
    "               'max_features': ['auto', 'sqrt'],\n",
    "               'max_depth': [10, 20, 30, 40, 50, 60, 70]\n",
    "               'min_samples_split': [2, 5, 10,12,15,18,20],\n",
    "               'min_samples_leaf': [1, 2, 4],\n",
    "               'bootstrap': [True, False]}\n",
    "rf_random = RandomizedSearchCV(estimator = rf, param_distributions = random_grid, n_iter = 100, cv = 3, verbose=2, random_state=42, n_jobs = -1)\n",
    "rf_random.fit(X_train,y_train)\n"
   ]
  },
  {
   "cell_type": "code",
   "execution_count": null,
   "id": "bc289844",
   "metadata": {},
   "outputs": [],
   "source": [
    "rf_random.best_params_"
   ]
  },
  {
   "cell_type": "code",
   "execution_count": 10,
   "id": "53104018",
   "metadata": {},
   "outputs": [
    {
     "name": "stderr",
     "output_type": "stream",
     "text": [
      "C:\\Users\\Student\\AppData\\Local\\Programs\\Python\\Python310\\lib\\site-packages\\sklearn\\ensemble\\_forest.py:427: FutureWarning: `max_features='auto'` has been deprecated in 1.1 and will be removed in 1.3. To keep the past behaviour, explicitly set `max_features='sqrt'` or remove this parameter as it is also the default value for RandomForestClassifiers and ExtraTreesClassifiers.\n",
      "  warn(\n"
     ]
    },
    {
     "data": {
      "text/html": [
       "<style>#sk-container-id-1 {color: black;background-color: white;}#sk-container-id-1 pre{padding: 0;}#sk-container-id-1 div.sk-toggleable {background-color: white;}#sk-container-id-1 label.sk-toggleable__label {cursor: pointer;display: block;width: 100%;margin-bottom: 0;padding: 0.3em;box-sizing: border-box;text-align: center;}#sk-container-id-1 label.sk-toggleable__label-arrow:before {content: \"▸\";float: left;margin-right: 0.25em;color: #696969;}#sk-container-id-1 label.sk-toggleable__label-arrow:hover:before {color: black;}#sk-container-id-1 div.sk-estimator:hover label.sk-toggleable__label-arrow:before {color: black;}#sk-container-id-1 div.sk-toggleable__content {max-height: 0;max-width: 0;overflow: hidden;text-align: left;background-color: #f0f8ff;}#sk-container-id-1 div.sk-toggleable__content pre {margin: 0.2em;color: black;border-radius: 0.25em;background-color: #f0f8ff;}#sk-container-id-1 input.sk-toggleable__control:checked~div.sk-toggleable__content {max-height: 200px;max-width: 100%;overflow: auto;}#sk-container-id-1 input.sk-toggleable__control:checked~label.sk-toggleable__label-arrow:before {content: \"▾\";}#sk-container-id-1 div.sk-estimator input.sk-toggleable__control:checked~label.sk-toggleable__label {background-color: #d4ebff;}#sk-container-id-1 div.sk-label input.sk-toggleable__control:checked~label.sk-toggleable__label {background-color: #d4ebff;}#sk-container-id-1 input.sk-hidden--visually {border: 0;clip: rect(1px 1px 1px 1px);clip: rect(1px, 1px, 1px, 1px);height: 1px;margin: -1px;overflow: hidden;padding: 0;position: absolute;width: 1px;}#sk-container-id-1 div.sk-estimator {font-family: monospace;background-color: #f0f8ff;border: 1px dotted black;border-radius: 0.25em;box-sizing: border-box;margin-bottom: 0.5em;}#sk-container-id-1 div.sk-estimator:hover {background-color: #d4ebff;}#sk-container-id-1 div.sk-parallel-item::after {content: \"\";width: 100%;border-bottom: 1px solid gray;flex-grow: 1;}#sk-container-id-1 div.sk-label:hover label.sk-toggleable__label {background-color: #d4ebff;}#sk-container-id-1 div.sk-serial::before {content: \"\";position: absolute;border-left: 1px solid gray;box-sizing: border-box;top: 0;bottom: 0;left: 50%;z-index: 0;}#sk-container-id-1 div.sk-serial {display: flex;flex-direction: column;align-items: center;background-color: white;padding-right: 0.2em;padding-left: 0.2em;position: relative;}#sk-container-id-1 div.sk-item {position: relative;z-index: 1;}#sk-container-id-1 div.sk-parallel {display: flex;align-items: stretch;justify-content: center;background-color: white;position: relative;}#sk-container-id-1 div.sk-item::before, #sk-container-id-1 div.sk-parallel-item::before {content: \"\";position: absolute;border-left: 1px solid gray;box-sizing: border-box;top: 0;bottom: 0;left: 50%;z-index: -1;}#sk-container-id-1 div.sk-parallel-item {display: flex;flex-direction: column;z-index: 1;position: relative;background-color: white;}#sk-container-id-1 div.sk-parallel-item:first-child::after {align-self: flex-end;width: 50%;}#sk-container-id-1 div.sk-parallel-item:last-child::after {align-self: flex-start;width: 50%;}#sk-container-id-1 div.sk-parallel-item:only-child::after {width: 0;}#sk-container-id-1 div.sk-dashed-wrapped {border: 1px dashed gray;margin: 0 0.4em 0.5em 0.4em;box-sizing: border-box;padding-bottom: 0.4em;background-color: white;}#sk-container-id-1 div.sk-label label {font-family: monospace;font-weight: bold;display: inline-block;line-height: 1.2em;}#sk-container-id-1 div.sk-label-container {text-align: center;}#sk-container-id-1 div.sk-container {/* jupyter's `normalize.less` sets `[hidden] { display: none; }` but bootstrap.min.css set `[hidden] { display: none !important; }` so we also need the `!important` here to be able to override the default hidden behavior on the sphinx rendered scikit-learn.org. See: https://github.com/scikit-learn/scikit-learn/issues/21755 */display: inline-block !important;position: relative;}#sk-container-id-1 div.sk-text-repr-fallback {display: none;}</style><div id=\"sk-container-id-1\" class=\"sk-top-container\"><div class=\"sk-text-repr-fallback\"><pre>RandomForestClassifier(max_depth=20, max_features=&#x27;auto&#x27;, min_samples_leaf=2,\n",
       "                       min_samples_split=12, n_estimators=1000)</pre><b>In a Jupyter environment, please rerun this cell to show the HTML representation or trust the notebook. <br />On GitHub, the HTML representation is unable to render, please try loading this page with nbviewer.org.</b></div><div class=\"sk-container\" hidden><div class=\"sk-item\"><div class=\"sk-estimator sk-toggleable\"><input class=\"sk-toggleable__control sk-hidden--visually\" id=\"sk-estimator-id-1\" type=\"checkbox\" checked><label for=\"sk-estimator-id-1\" class=\"sk-toggleable__label sk-toggleable__label-arrow\">RandomForestClassifier</label><div class=\"sk-toggleable__content\"><pre>RandomForestClassifier(max_depth=20, max_features=&#x27;auto&#x27;, min_samples_leaf=2,\n",
       "                       min_samples_split=12, n_estimators=1000)</pre></div></div></div></div></div>"
      ],
      "text/plain": [
       "RandomForestClassifier(max_depth=20, max_features='auto', min_samples_leaf=2,\n",
       "                       min_samples_split=12, n_estimators=1000)"
      ]
     },
     "execution_count": 10,
     "metadata": {},
     "output_type": "execute_result"
    }
   ],
   "source": [
    "rf_model = RandomForestClassifier(n_estimators=1000,max_features=\"auto\",\n",
    "                                  max_depth=20,min_samples_split=12,min_samples_leaf=2,bootstrap=True)\n",
    "rf_model.fit(X_train,y_train)"
   ]
  },
  {
   "cell_type": "code",
   "execution_count": 14,
   "id": "d5101c85",
   "metadata": {},
   "outputs": [
    {
     "name": "stdout",
     "output_type": "stream",
     "text": [
      "The accuracy for the model is 0.76056\n"
     ]
    }
   ],
   "source": [
    "#best model on the validation data\n",
    "y_valid_pred = rf_model.predict(X_valid)\n",
    "acc = accuracy_score(y_valid,y_valid_pred)\n",
    "\n",
    "print(f\"The accuracy for the model is {acc}\")"
   ]
  },
  {
   "cell_type": "code",
   "execution_count": 11,
   "id": "341ec099",
   "metadata": {},
   "outputs": [
    {
     "name": "stdout",
     "output_type": "stream",
     "text": [
      "The accuracy for the model is 0.75352\n"
     ]
    }
   ],
   "source": [
    "#best model on the test data\n",
    "y_test_pred = rf_model.predict(X_test)\n",
    "acc = accuracy_score(y_test,y_test_pred)\n",
    "\n",
    "print(f\"The accuracy for the model is {acc}\")"
   ]
  },
  {
   "cell_type": "code",
   "execution_count": 12,
   "id": "80d14856",
   "metadata": {},
   "outputs": [
    {
     "name": "stdout",
     "output_type": "stream",
     "text": [
      "[[ 2897    66  1454]\n",
      " [  272  5471  1494]\n",
      " [ 1174  1702 10470]]\n"
     ]
    }
   ],
   "source": [
    "# Confusion matrx for the model\n",
    "cm = confusion_matrix(y_test, y_test_pred)\n",
    "print(cm)"
   ]
  },
  {
   "cell_type": "code",
   "execution_count": 13,
   "id": "9d0b2d44",
   "metadata": {},
   "outputs": [
    {
     "name": "stdout",
     "output_type": "stream",
     "text": [
      "              precision    recall  f1-score   support\n",
      "\n",
      "           0       0.67      0.66      0.66      4417\n",
      "           1       0.76      0.76      0.76      7237\n",
      "           2       0.78      0.78      0.78     13346\n",
      "\n",
      "    accuracy                           0.75     25000\n",
      "   macro avg       0.73      0.73      0.73     25000\n",
      "weighted avg       0.75      0.75      0.75     25000\n",
      "\n"
     ]
    }
   ],
   "source": [
    "#Classification Report for the model\n",
    "print(classification_report(y_test,y_test_pred))"
   ]
  },
  {
   "cell_type": "markdown",
   "id": "13d0e8f9",
   "metadata": {},
   "source": [
    "# PCA model"
   ]
  },
  {
   "cell_type": "code",
   "execution_count": 14,
   "id": "3afd4884",
   "metadata": {},
   "outputs": [
    {
     "data": {
      "text/html": [
       "<div>\n",
       "<style scoped>\n",
       "    .dataframe tbody tr th:only-of-type {\n",
       "        vertical-align: middle;\n",
       "    }\n",
       "\n",
       "    .dataframe tbody tr th {\n",
       "        vertical-align: top;\n",
       "    }\n",
       "\n",
       "    .dataframe thead th {\n",
       "        text-align: right;\n",
       "    }\n",
       "</style>\n",
       "<table border=\"1\" class=\"dataframe\">\n",
       "  <thead>\n",
       "    <tr style=\"text-align: right;\">\n",
       "      <th></th>\n",
       "      <th>Unnamed: 0</th>\n",
       "      <th>0</th>\n",
       "      <th>1</th>\n",
       "      <th>2</th>\n",
       "      <th>3</th>\n",
       "      <th>4</th>\n",
       "      <th>5</th>\n",
       "      <th>6</th>\n",
       "      <th>7</th>\n",
       "      <th>8</th>\n",
       "      <th>...</th>\n",
       "      <th>10</th>\n",
       "      <th>11</th>\n",
       "      <th>12</th>\n",
       "      <th>13</th>\n",
       "      <th>14</th>\n",
       "      <th>15</th>\n",
       "      <th>16</th>\n",
       "      <th>17</th>\n",
       "      <th>18</th>\n",
       "      <th>Credit_Score</th>\n",
       "    </tr>\n",
       "  </thead>\n",
       "  <tbody>\n",
       "    <tr>\n",
       "      <th>0</th>\n",
       "      <td>0</td>\n",
       "      <td>-0.136363</td>\n",
       "      <td>-0.370934</td>\n",
       "      <td>0.041678</td>\n",
       "      <td>0.263842</td>\n",
       "      <td>-0.222105</td>\n",
       "      <td>0.292258</td>\n",
       "      <td>0.251458</td>\n",
       "      <td>-0.438477</td>\n",
       "      <td>-0.190560</td>\n",
       "      <td>...</td>\n",
       "      <td>0.547227</td>\n",
       "      <td>-0.097278</td>\n",
       "      <td>-0.341116</td>\n",
       "      <td>-0.124602</td>\n",
       "      <td>-0.107184</td>\n",
       "      <td>-0.040613</td>\n",
       "      <td>-0.066402</td>\n",
       "      <td>0.042967</td>\n",
       "      <td>0.056982</td>\n",
       "      <td>0</td>\n",
       "    </tr>\n",
       "    <tr>\n",
       "      <th>1</th>\n",
       "      <td>1</td>\n",
       "      <td>-0.226325</td>\n",
       "      <td>-0.463382</td>\n",
       "      <td>0.151887</td>\n",
       "      <td>0.296798</td>\n",
       "      <td>0.345578</td>\n",
       "      <td>0.304052</td>\n",
       "      <td>0.211837</td>\n",
       "      <td>-0.472029</td>\n",
       "      <td>-0.316839</td>\n",
       "      <td>...</td>\n",
       "      <td>-0.020493</td>\n",
       "      <td>-0.073904</td>\n",
       "      <td>-0.188365</td>\n",
       "      <td>-0.469507</td>\n",
       "      <td>0.041760</td>\n",
       "      <td>-0.076142</td>\n",
       "      <td>-0.225868</td>\n",
       "      <td>-0.041018</td>\n",
       "      <td>0.090555</td>\n",
       "      <td>0</td>\n",
       "    </tr>\n",
       "    <tr>\n",
       "      <th>2</th>\n",
       "      <td>2</td>\n",
       "      <td>-0.273298</td>\n",
       "      <td>-0.478896</td>\n",
       "      <td>0.422737</td>\n",
       "      <td>0.295270</td>\n",
       "      <td>-0.517704</td>\n",
       "      <td>0.286965</td>\n",
       "      <td>0.194752</td>\n",
       "      <td>-0.482383</td>\n",
       "      <td>-0.322554</td>\n",
       "      <td>...</td>\n",
       "      <td>-0.117989</td>\n",
       "      <td>0.019139</td>\n",
       "      <td>-0.105781</td>\n",
       "      <td>-0.162512</td>\n",
       "      <td>-0.098846</td>\n",
       "      <td>-0.021087</td>\n",
       "      <td>-0.085814</td>\n",
       "      <td>-0.016029</td>\n",
       "      <td>0.084190</td>\n",
       "      <td>0</td>\n",
       "    </tr>\n",
       "    <tr>\n",
       "      <th>3</th>\n",
       "      <td>3</td>\n",
       "      <td>-0.126936</td>\n",
       "      <td>-0.375277</td>\n",
       "      <td>-0.303028</td>\n",
       "      <td>0.312867</td>\n",
       "      <td>0.500363</td>\n",
       "      <td>0.306469</td>\n",
       "      <td>0.272134</td>\n",
       "      <td>-0.428103</td>\n",
       "      <td>-0.231405</td>\n",
       "      <td>...</td>\n",
       "      <td>0.576941</td>\n",
       "      <td>0.048185</td>\n",
       "      <td>-0.210290</td>\n",
       "      <td>-0.179118</td>\n",
       "      <td>0.028326</td>\n",
       "      <td>-0.181783</td>\n",
       "      <td>-0.088332</td>\n",
       "      <td>0.009019</td>\n",
       "      <td>0.133855</td>\n",
       "      <td>0</td>\n",
       "    </tr>\n",
       "    <tr>\n",
       "      <th>4</th>\n",
       "      <td>4</td>\n",
       "      <td>-0.337219</td>\n",
       "      <td>-0.249693</td>\n",
       "      <td>-0.537153</td>\n",
       "      <td>0.358871</td>\n",
       "      <td>0.219459</td>\n",
       "      <td>0.308859</td>\n",
       "      <td>0.244402</td>\n",
       "      <td>-0.453667</td>\n",
       "      <td>-0.368670</td>\n",
       "      <td>...</td>\n",
       "      <td>-0.019088</td>\n",
       "      <td>0.321884</td>\n",
       "      <td>-0.029550</td>\n",
       "      <td>-0.192756</td>\n",
       "      <td>-0.054961</td>\n",
       "      <td>-0.077647</td>\n",
       "      <td>-0.081890</td>\n",
       "      <td>-0.034598</td>\n",
       "      <td>0.105237</td>\n",
       "      <td>0</td>\n",
       "    </tr>\n",
       "  </tbody>\n",
       "</table>\n",
       "<p>5 rows × 21 columns</p>\n",
       "</div>"
      ],
      "text/plain": [
       "   Unnamed: 0         0         1         2         3         4         5  \\\n",
       "0           0 -0.136363 -0.370934  0.041678  0.263842 -0.222105  0.292258   \n",
       "1           1 -0.226325 -0.463382  0.151887  0.296798  0.345578  0.304052   \n",
       "2           2 -0.273298 -0.478896  0.422737  0.295270 -0.517704  0.286965   \n",
       "3           3 -0.126936 -0.375277 -0.303028  0.312867  0.500363  0.306469   \n",
       "4           4 -0.337219 -0.249693 -0.537153  0.358871  0.219459  0.308859   \n",
       "\n",
       "          6         7         8  ...        10        11        12        13  \\\n",
       "0  0.251458 -0.438477 -0.190560  ...  0.547227 -0.097278 -0.341116 -0.124602   \n",
       "1  0.211837 -0.472029 -0.316839  ... -0.020493 -0.073904 -0.188365 -0.469507   \n",
       "2  0.194752 -0.482383 -0.322554  ... -0.117989  0.019139 -0.105781 -0.162512   \n",
       "3  0.272134 -0.428103 -0.231405  ...  0.576941  0.048185 -0.210290 -0.179118   \n",
       "4  0.244402 -0.453667 -0.368670  ... -0.019088  0.321884 -0.029550 -0.192756   \n",
       "\n",
       "         14        15        16        17        18  Credit_Score  \n",
       "0 -0.107184 -0.040613 -0.066402  0.042967  0.056982             0  \n",
       "1  0.041760 -0.076142 -0.225868 -0.041018  0.090555             0  \n",
       "2 -0.098846 -0.021087 -0.085814 -0.016029  0.084190             0  \n",
       "3  0.028326 -0.181783 -0.088332  0.009019  0.133855             0  \n",
       "4 -0.054961 -0.077647 -0.081890 -0.034598  0.105237             0  \n",
       "\n",
       "[5 rows x 21 columns]"
      ]
     },
     "execution_count": 14,
     "metadata": {},
     "output_type": "execute_result"
    }
   ],
   "source": [
    "#Reading data without outliers\n",
    "df_pca = pd.read_csv('Credit_data_PCA.csv')\n",
    "df_pca.head()"
   ]
  },
  {
   "cell_type": "code",
   "execution_count": 15,
   "id": "9b3bdae0",
   "metadata": {},
   "outputs": [],
   "source": [
    "X = df_pca.drop(['Credit_Score'],axis=1)\n",
    "y = df_pca['Credit_Score']"
   ]
  },
  {
   "cell_type": "code",
   "execution_count": 16,
   "id": "31b58b99",
   "metadata": {},
   "outputs": [],
   "source": [
    "#splitting data into train,validation and test datasets\n",
    "X_train, X_rem, y_train, y_rem = train_test_split(X,y, train_size=0.5,random_state=42)\n",
    "test_size = 0.5\n",
    "X_valid, X_test, y_valid, y_test = train_test_split(X_rem,y_rem, test_size=0.5,random_state=42)"
   ]
  },
  {
   "cell_type": "code",
   "execution_count": 17,
   "id": "c02b4ad6",
   "metadata": {},
   "outputs": [
    {
     "name": "stdout",
     "output_type": "stream",
     "text": [
      "(49999, 20)\n",
      "(49999,)\n",
      "(25000, 20)\n",
      "(25000,)\n",
      "(25000, 20)\n",
      "(25000,)\n"
     ]
    },
    {
     "data": {
      "text/plain": [
       "(None, None)"
      ]
     },
     "execution_count": 17,
     "metadata": {},
     "output_type": "execute_result"
    }
   ],
   "source": [
    "# shapes of train,validation and  test split\n",
    "print(X_train.shape), print(y_train.shape)\n",
    "print(X_valid.shape), print(y_valid.shape)\n",
    "print(X_test.shape), print(y_test.shape)"
   ]
  },
  {
   "cell_type": "code",
   "execution_count": 18,
   "id": "3faa9183",
   "metadata": {},
   "outputs": [],
   "source": [
    "X = df_pca.drop(['Credit_Score'],axis=1)\n",
    "y = df_pca['Credit_Score']"
   ]
  },
  {
   "cell_type": "code",
   "execution_count": 21,
   "id": "bc739301",
   "metadata": {},
   "outputs": [],
   "source": [
    "rf = RandomForestClassifier()"
   ]
  },
  {
   "cell_type": "code",
   "execution_count": 22,
   "id": "3ca65474",
   "metadata": {},
   "outputs": [
    {
     "name": "stdout",
     "output_type": "stream",
     "text": [
      "The accuracy for the model is 0.69468\n"
     ]
    }
   ],
   "source": [
    "rf.fit(X_train,y_train)\n",
    "#model on the validation dataset\n",
    "y_valid_pred = rf.predict(X_valid)\n",
    "acc = accuracy_score(y_valid,y_valid_pred)\n",
    "\n",
    "print(f\"The accuracy for the model is {acc}\")"
   ]
  },
  {
   "cell_type": "code",
   "execution_count": 23,
   "id": "297b1fc0",
   "metadata": {},
   "outputs": [
    {
     "name": "stdout",
     "output_type": "stream",
     "text": [
      "The accuracy for the model is 0.69012\n"
     ]
    }
   ],
   "source": [
    "# model on the test dataset\n",
    "y_test_pred = rf.predict(X_test)\n",
    "accu = accuracy_score(y_test,y_test_pred)\n",
    "\n",
    "print(f\"The accuracy for the model is {accu}\")"
   ]
  },
  {
   "cell_type": "markdown",
   "id": "b6869696",
   "metadata": {},
   "source": [
    "# Finding best hyperparameters using the randomized searchcv"
   ]
  },
  {
   "cell_type": "code",
   "execution_count": null,
   "id": "4b4193f4",
   "metadata": {},
   "outputs": [],
   "source": [
    "random_grid = {'n_estimators': [200, 400, 600, 800, 1000, 1200, 1400],\n",
    "               'max_features': ['auto', 'sqrt'],\n",
    "               'max_depth': [10, 20, 30, 40, 50, 60, 70]\n",
    "               'min_samples_split': [2, 5, 10,12,15,18,20],\n",
    "               'min_samples_leaf': [1, 2, 4],\n",
    "               'bootstrap': [True, False]}\n",
    "rf_random = RandomizedSearchCV(estimator = rf, param_distributions = random_grid, n_iter = 100, cv = 3, verbose=2, random_state=42, n_jobs = -1)\n",
    "rf_random.fit(X_train,y_train)\n"
   ]
  },
  {
   "cell_type": "code",
   "execution_count": null,
   "id": "7d19b540",
   "metadata": {},
   "outputs": [],
   "source": [
    "rf_random.best_params_"
   ]
  },
  {
   "cell_type": "code",
   "execution_count": 19,
   "id": "6ea25f4b",
   "metadata": {},
   "outputs": [
    {
     "name": "stderr",
     "output_type": "stream",
     "text": [
      "C:\\Users\\Student\\AppData\\Local\\Programs\\Python\\Python310\\lib\\site-packages\\sklearn\\ensemble\\_forest.py:427: FutureWarning: `max_features='auto'` has been deprecated in 1.1 and will be removed in 1.3. To keep the past behaviour, explicitly set `max_features='sqrt'` or remove this parameter as it is also the default value for RandomForestClassifiers and ExtraTreesClassifiers.\n",
      "  warn(\n"
     ]
    },
    {
     "data": {
      "text/html": [
       "<style>#sk-container-id-2 {color: black;background-color: white;}#sk-container-id-2 pre{padding: 0;}#sk-container-id-2 div.sk-toggleable {background-color: white;}#sk-container-id-2 label.sk-toggleable__label {cursor: pointer;display: block;width: 100%;margin-bottom: 0;padding: 0.3em;box-sizing: border-box;text-align: center;}#sk-container-id-2 label.sk-toggleable__label-arrow:before {content: \"▸\";float: left;margin-right: 0.25em;color: #696969;}#sk-container-id-2 label.sk-toggleable__label-arrow:hover:before {color: black;}#sk-container-id-2 div.sk-estimator:hover label.sk-toggleable__label-arrow:before {color: black;}#sk-container-id-2 div.sk-toggleable__content {max-height: 0;max-width: 0;overflow: hidden;text-align: left;background-color: #f0f8ff;}#sk-container-id-2 div.sk-toggleable__content pre {margin: 0.2em;color: black;border-radius: 0.25em;background-color: #f0f8ff;}#sk-container-id-2 input.sk-toggleable__control:checked~div.sk-toggleable__content {max-height: 200px;max-width: 100%;overflow: auto;}#sk-container-id-2 input.sk-toggleable__control:checked~label.sk-toggleable__label-arrow:before {content: \"▾\";}#sk-container-id-2 div.sk-estimator input.sk-toggleable__control:checked~label.sk-toggleable__label {background-color: #d4ebff;}#sk-container-id-2 div.sk-label input.sk-toggleable__control:checked~label.sk-toggleable__label {background-color: #d4ebff;}#sk-container-id-2 input.sk-hidden--visually {border: 0;clip: rect(1px 1px 1px 1px);clip: rect(1px, 1px, 1px, 1px);height: 1px;margin: -1px;overflow: hidden;padding: 0;position: absolute;width: 1px;}#sk-container-id-2 div.sk-estimator {font-family: monospace;background-color: #f0f8ff;border: 1px dotted black;border-radius: 0.25em;box-sizing: border-box;margin-bottom: 0.5em;}#sk-container-id-2 div.sk-estimator:hover {background-color: #d4ebff;}#sk-container-id-2 div.sk-parallel-item::after {content: \"\";width: 100%;border-bottom: 1px solid gray;flex-grow: 1;}#sk-container-id-2 div.sk-label:hover label.sk-toggleable__label {background-color: #d4ebff;}#sk-container-id-2 div.sk-serial::before {content: \"\";position: absolute;border-left: 1px solid gray;box-sizing: border-box;top: 0;bottom: 0;left: 50%;z-index: 0;}#sk-container-id-2 div.sk-serial {display: flex;flex-direction: column;align-items: center;background-color: white;padding-right: 0.2em;padding-left: 0.2em;position: relative;}#sk-container-id-2 div.sk-item {position: relative;z-index: 1;}#sk-container-id-2 div.sk-parallel {display: flex;align-items: stretch;justify-content: center;background-color: white;position: relative;}#sk-container-id-2 div.sk-item::before, #sk-container-id-2 div.sk-parallel-item::before {content: \"\";position: absolute;border-left: 1px solid gray;box-sizing: border-box;top: 0;bottom: 0;left: 50%;z-index: -1;}#sk-container-id-2 div.sk-parallel-item {display: flex;flex-direction: column;z-index: 1;position: relative;background-color: white;}#sk-container-id-2 div.sk-parallel-item:first-child::after {align-self: flex-end;width: 50%;}#sk-container-id-2 div.sk-parallel-item:last-child::after {align-self: flex-start;width: 50%;}#sk-container-id-2 div.sk-parallel-item:only-child::after {width: 0;}#sk-container-id-2 div.sk-dashed-wrapped {border: 1px dashed gray;margin: 0 0.4em 0.5em 0.4em;box-sizing: border-box;padding-bottom: 0.4em;background-color: white;}#sk-container-id-2 div.sk-label label {font-family: monospace;font-weight: bold;display: inline-block;line-height: 1.2em;}#sk-container-id-2 div.sk-label-container {text-align: center;}#sk-container-id-2 div.sk-container {/* jupyter's `normalize.less` sets `[hidden] { display: none; }` but bootstrap.min.css set `[hidden] { display: none !important; }` so we also need the `!important` here to be able to override the default hidden behavior on the sphinx rendered scikit-learn.org. See: https://github.com/scikit-learn/scikit-learn/issues/21755 */display: inline-block !important;position: relative;}#sk-container-id-2 div.sk-text-repr-fallback {display: none;}</style><div id=\"sk-container-id-2\" class=\"sk-top-container\"><div class=\"sk-text-repr-fallback\"><pre>RandomForestClassifier(max_depth=30, max_features=&#x27;auto&#x27;, min_samples_leaf=4,\n",
       "                       min_samples_split=12, n_estimators=800)</pre><b>In a Jupyter environment, please rerun this cell to show the HTML representation or trust the notebook. <br />On GitHub, the HTML representation is unable to render, please try loading this page with nbviewer.org.</b></div><div class=\"sk-container\" hidden><div class=\"sk-item\"><div class=\"sk-estimator sk-toggleable\"><input class=\"sk-toggleable__control sk-hidden--visually\" id=\"sk-estimator-id-2\" type=\"checkbox\" checked><label for=\"sk-estimator-id-2\" class=\"sk-toggleable__label sk-toggleable__label-arrow\">RandomForestClassifier</label><div class=\"sk-toggleable__content\"><pre>RandomForestClassifier(max_depth=30, max_features=&#x27;auto&#x27;, min_samples_leaf=4,\n",
       "                       min_samples_split=12, n_estimators=800)</pre></div></div></div></div></div>"
      ],
      "text/plain": [
       "RandomForestClassifier(max_depth=30, max_features='auto', min_samples_leaf=4,\n",
       "                       min_samples_split=12, n_estimators=800)"
      ]
     },
     "execution_count": 19,
     "metadata": {},
     "output_type": "execute_result"
    }
   ],
   "source": [
    "rfc_model = RandomForestClassifier(n_estimators=800,max_features=\"auto\",\n",
    "                                  max_depth=30,min_samples_split=12,min_samples_leaf=4,bootstrap=True)\n",
    "rfc_model.fit(X_train,y_train)"
   ]
  },
  {
   "cell_type": "code",
   "execution_count": 25,
   "id": "53c584fd",
   "metadata": {},
   "outputs": [
    {
     "name": "stdout",
     "output_type": "stream",
     "text": [
      "The accuracy for the model is 0.69492\n"
     ]
    }
   ],
   "source": [
    "#best model on the validation data\n",
    "y_valid_pred = rfc_model.predict(X_valid)\n",
    "acc = accuracy_score(y_valid,y_valid_pred)\n",
    "\n",
    "print(f\"The accuracy for the model is {acc}\")"
   ]
  },
  {
   "cell_type": "code",
   "execution_count": 20,
   "id": "f62e95a6",
   "metadata": {},
   "outputs": [
    {
     "name": "stdout",
     "output_type": "stream",
     "text": [
      "The accuracy for the model is 0.68752\n"
     ]
    }
   ],
   "source": [
    "#best model on the test data\n",
    "y_test_pred = rfc_model.predict(X_test)\n",
    "acc = accuracy_score(y_test,y_test_pred)\n",
    "\n",
    "print(f\"The accuracy for the model is {acc}\")"
   ]
  },
  {
   "cell_type": "code",
   "execution_count": 21,
   "id": "6ce1cf15",
   "metadata": {},
   "outputs": [
    {
     "name": "stdout",
     "output_type": "stream",
     "text": [
      "[[ 2528    37  1852]\n",
      " [  472  4392  2373]\n",
      " [ 1356  1722 10268]]\n"
     ]
    }
   ],
   "source": [
    "# Confusion matrx for the model\n",
    "cm = confusion_matrix(y_test, y_test_pred)\n",
    "print(cm)"
   ]
  },
  {
   "cell_type": "code",
   "execution_count": 22,
   "id": "1e928b6f",
   "metadata": {},
   "outputs": [
    {
     "name": "stdout",
     "output_type": "stream",
     "text": [
      "              precision    recall  f1-score   support\n",
      "\n",
      "           0       0.58      0.57      0.58      4417\n",
      "           1       0.71      0.61      0.66      7237\n",
      "           2       0.71      0.77      0.74     13346\n",
      "\n",
      "    accuracy                           0.69     25000\n",
      "   macro avg       0.67      0.65      0.66     25000\n",
      "weighted avg       0.69      0.69      0.69     25000\n",
      "\n"
     ]
    }
   ],
   "source": [
    "#Classification Report for the model\n",
    "print(classification_report(y_test,y_test_pred))"
   ]
  },
  {
   "cell_type": "code",
   "execution_count": null,
   "id": "31c6619d",
   "metadata": {},
   "outputs": [],
   "source": []
  }
 ],
 "metadata": {
  "kernelspec": {
   "display_name": "Python 3 (ipykernel)",
   "language": "python",
   "name": "python3"
  },
  "language_info": {
   "codemirror_mode": {
    "name": "ipython",
    "version": 3
   },
   "file_extension": ".py",
   "mimetype": "text/x-python",
   "name": "python",
   "nbconvert_exporter": "python",
   "pygments_lexer": "ipython3",
   "version": "3.10.6"
  }
 },
 "nbformat": 4,
 "nbformat_minor": 5
}
